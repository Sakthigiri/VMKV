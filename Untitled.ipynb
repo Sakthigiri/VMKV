{
 "cells": [
  {
   "cell_type": "code",
   "execution_count": 3,
   "id": "08bb413c-94d7-4521-8c4f-e346a2da42de",
   "metadata": {},
   "outputs": [
    {
     "name": "stdout",
     "output_type": "stream",
     "text": [
      "*\n",
      "**\n",
      "***\n",
      "****\n"
     ]
    }
   ],
   "source": [
    "for i in range(4):\n",
    "    for j in range(i+1):\n",
    "        print(\"*\", end =\"\")\n",
    "    print()"
   ]
  },
  {
   "cell_type": "code",
   "execution_count": 16,
   "id": "2d9f8690-98bf-4c90-aff9-784c49ac87a9",
   "metadata": {},
   "outputs": [
    {
     "name": "stdin",
     "output_type": "stream",
     "text": [
      "Enter a number 3421\n"
     ]
    },
    {
     "name": "stdout",
     "output_type": "stream",
     "text": [
      "24\n"
     ]
    }
   ],
   "source": [
    "#to find the product of the digits using for loop\n",
    "a=input(\"Enter a number\")\n",
    "mul=1\n",
    "for i in a:\n",
    "    mul=mul*int(i)\n",
    "print(mul)"
   ]
  },
  {
   "cell_type": "code",
   "execution_count": 123,
   "id": "258e97e4-96dc-471d-8a0b-5f2d0ae72128",
   "metadata": {},
   "outputs": [
    {
     "name": "stdin",
     "output_type": "stream",
     "text": [
      "Enter a number 123\n"
     ]
    },
    {
     "name": "stdout",
     "output_type": "stream",
     "text": [
      "24\n"
     ]
    }
   ],
   "source": [
    "#function for the product of the digits\n",
    "def product_of_digits(n):\n",
    "    mul=1\n",
    "    for i in a:\n",
    "        mul=mul*int(i)\n",
    "    return mul\n",
    "n=input(\"Enter a number\")\n",
    "print(product_of_digits(n))"
   ]
  },
  {
   "cell_type": "markdown",
   "id": "fa0a2fa8-a682-4e40-ab5c-87fd41a83383",
   "metadata": {},
   "source": [
    "# to find the sum of digits using for loop\n",
    "a=input(\"Enter a number\")\n",
    "sum=0\n",
    "for i in a:\n",
    "    sum+=int(i)\n",
    "print(sum)\n"
   ]
  },
  {
   "cell_type": "code",
   "execution_count": 125,
   "id": "a4ed3eae-6b33-4f48-8d3c-f9f788142208",
   "metadata": {},
   "outputs": [
    {
     "name": "stdin",
     "output_type": "stream",
     "text": [
      "Enter a number 12345\n"
     ]
    },
    {
     "name": "stdout",
     "output_type": "stream",
     "text": [
      "15\n"
     ]
    }
   ],
   "source": [
    "#fucntion for sum of the digits\n",
    "def sum_of_digits(n):\n",
    "    sum=0\n",
    "    for i in n:\n",
    "        sum+=int(i)\n",
    "    return sum\n",
    "n=input(\"Enter a number\")\n",
    "print(sum_of_digits(n))\n",
    "    "
   ]
  },
  {
   "cell_type": "code",
   "execution_count": 77,
   "id": "6fbc4f5d-c543-4880-b27f-7667cea42166",
   "metadata": {},
   "outputs": [
    {
     "name": "stdin",
     "output_type": "stream",
     "text": [
      "Enter a number 12345\n"
     ]
    },
    {
     "name": "stdout",
     "output_type": "stream",
     "text": [
      "15\n"
     ]
    }
   ],
   "source": [
    "#sum as function\n",
    "def sum_of_digits(n):\n",
    "    s=0\n",
    "    while(n>0):\n",
    "        digit=n%10\n",
    "        s=s+digit\n",
    "        n=n//10\n",
    "    return s\n",
    "n=int(input(\"Enter a number\"))   \n",
    "print(sum_of_digits(n))\n"
   ]
  },
  {
   "cell_type": "code",
   "execution_count": 2,
   "id": "92be496e-bfe8-4368-8864-0599cfd2b2ab",
   "metadata": {},
   "outputs": [
    {
     "name": "stdin",
     "output_type": "stream",
     "text": [
      "Enter a number 6543\n"
     ]
    },
    {
     "name": "stdout",
     "output_type": "stream",
     "text": [
      "Sum of the digits 18\n"
     ]
    }
   ],
   "source": [
    "#to find the sum of digits using while loop \n",
    "n=int(input(\"Enter a number\"))\n",
    "s=0\n",
    "while(n>0):\n",
    "    digit=n%10\n",
    "    s=s+digit\n",
    "    n=n//10\n",
    "print(\"Sum of the digits\",s)\n",
    "\n",
    "\n"
   ]
  },
  {
   "cell_type": "code",
   "execution_count": 126,
   "id": "ed3a82c7-c6ad-4cb6-aa84-da4d16b5c553",
   "metadata": {},
   "outputs": [
    {
     "name": "stdin",
     "output_type": "stream",
     "text": [
      "Enter a number 9087\n"
     ]
    },
    {
     "name": "stdout",
     "output_type": "stream",
     "text": [
      "24\n"
     ]
    }
   ],
   "source": [
    "#function for sum while loop\n",
    "def sum_it(n):\n",
    "    s=0\n",
    "    while(n>0):\n",
    "        digit=n%10\n",
    "        s=s+digit\n",
    "        n=n//10\n",
    "    return s\n",
    "n=int(input(\"Enter a number\"))\n",
    "print(sum_it(n))"
   ]
  },
  {
   "cell_type": "code",
   "execution_count": 79,
   "id": "7d920a35-9a27-437d-a4bf-43143d3bf4f7",
   "metadata": {},
   "outputs": [
    {
     "name": "stdin",
     "output_type": "stream",
     "text": [
      "Enter a number 1234\n"
     ]
    },
    {
     "name": "stdout",
     "output_type": "stream",
     "text": [
      "24\n"
     ]
    }
   ],
   "source": [
    "#product as function\n",
    "def prod_of_numbers(n):\n",
    "    \n",
    "    s=1\n",
    "    while(n>0):\n",
    "        digit=n%10\n",
    "        s=s*digit\n",
    "        n=n//10 \n",
    "    return s\n",
    "n=int(input(\"Enter a number\"))\n",
    "print(prod_of_numbers(n))\n"
   ]
  },
  {
   "cell_type": "code",
   "execution_count": 127,
   "id": "59221b6d-2cf7-4c13-9b1f-069d10f6fc67",
   "metadata": {},
   "outputs": [
    {
     "name": "stdin",
     "output_type": "stream",
     "text": [
      "Enter a number 1234\n"
     ]
    },
    {
     "name": "stdout",
     "output_type": "stream",
     "text": [
      "product of the numbers is: 24\n"
     ]
    }
   ],
   "source": [
    "#find the product of digits in a given number \n",
    "n=int(input(\"Enter a number\"))\n",
    "s=1\n",
    "while(n>0):\n",
    "    digit=n%10\n",
    "    s=s*digit\n",
    "    n=n//10\n",
    "print(\"product of the numbers is:\",s)"
   ]
  },
  {
   "cell_type": "code",
   "execution_count": 128,
   "id": "97cb55a7-52f9-4445-9c08-96d37d911463",
   "metadata": {},
   "outputs": [
    {
     "name": "stdin",
     "output_type": "stream",
     "text": [
      "Enter a number 1234\n"
     ]
    },
    {
     "name": "stdout",
     "output_type": "stream",
     "text": [
      "24\n"
     ]
    }
   ],
   "source": [
    "#function for product of the digits\n",
    "def produ_ct(n):\n",
    "    s=1\n",
    "    while(n>0):\n",
    "        digit=n%10\n",
    "        s=s*digit\n",
    "        n=n//10\n",
    "    return s\n",
    "n=int(input(\"Enter a number\"))\n",
    "print(produ_ct(n))\n",
    "    \n",
    "    "
   ]
  },
  {
   "cell_type": "code",
   "execution_count": 14,
   "id": "b623e118-534f-4d30-a058-fd52f220a905",
   "metadata": {},
   "outputs": [
    {
     "name": "stdout",
     "output_type": "stream",
     "text": [
      "sum: 625\n"
     ]
    }
   ],
   "source": [
    "#sum of even numbers upto 50\n",
    "s=0\n",
    "for i in range(1,50, 2):\n",
    "    s=s+i\n",
    "print(\"sum:\", s)"
   ]
  },
  {
   "cell_type": "code",
   "execution_count": 19,
   "id": "b30ef501-4c78-419b-8e4b-34446b52a2c9",
   "metadata": {},
   "outputs": [
    {
     "name": "stdout",
     "output_type": "stream",
     "text": [
      "sum: 2450\n"
     ]
    }
   ],
   "source": [
    "#sum of even numbers upto 100\n",
    "s=0\n",
    "for i in range(0,100, 2):\n",
    "    s=s+i\n",
    "print(\"sum:\", s)"
   ]
  },
  {
   "cell_type": "code",
   "execution_count": 131,
   "id": "9eefcaea-fc60-4132-9e56-c76e15c3f243",
   "metadata": {},
   "outputs": [
    {
     "name": "stdin",
     "output_type": "stream",
     "text": [
      "Enter a number 100\n"
     ]
    },
    {
     "name": "stdout",
     "output_type": "stream",
     "text": [
      "2500\n"
     ]
    }
   ],
   "source": [
    "#function for sum of even numbers upto n\n",
    "def sum_of_even(n):\n",
    "    s=0\n",
    "    for i in range(1,n, 2):\n",
    "        s=s+i\n",
    "    return s\n",
    "n=int(input(\"Enter a number\"))\n",
    "print(sum_of_even(n))\n",
    "    "
   ]
  },
  {
   "cell_type": "code",
   "execution_count": 30,
   "id": "e7a12a31-fa1a-46b3-aab4-6d3a9ebb2e2c",
   "metadata": {},
   "outputs": [
    {
     "name": "stdout",
     "output_type": "stream",
     "text": [
      "sum of n natural numbers: 4950\n"
     ]
    }
   ],
   "source": [
    "#sum of n natural numbers\n",
    "s=0\n",
    "for i in range(0,100):\n",
    "    s=s+i\n",
    "print(\"sum of n natural numbers:\", s)\n",
    "\n"
   ]
  },
  {
   "cell_type": "code",
   "execution_count": null,
   "id": "ec27f71e-2235-4843-a8b1-27c22aa39455",
   "metadata": {},
   "outputs": [],
   "source": []
  },
  {
   "cell_type": "code",
   "execution_count": 20,
   "id": "5a2e3751-fc2c-4433-93aa-4834605f4283",
   "metadata": {},
   "outputs": [
    {
     "name": "stdout",
     "output_type": "stream",
     "text": [
      "prime\n"
     ]
    }
   ],
   "source": [
    "#prime or not\n",
    "num=37\n",
    "for i in range(2,num):\n",
    "    if num%i==0:\n",
    "        print(\"not a prime\")\n",
    "        break\n",
    "else:\n",
    "    print(\"prime\")"
   ]
  },
  {
   "cell_type": "code",
   "execution_count": 29,
   "id": "cac71b8c-3803-45d1-ab02-8aee58ae4f4e",
   "metadata": {},
   "outputs": [
    {
     "name": "stdin",
     "output_type": "stream",
     "text": [
      "Enter a number 50\n"
     ]
    },
    {
     "name": "stdout",
     "output_type": "stream",
     "text": [
      "sum 1225\n"
     ]
    }
   ],
   "source": [
    "n=int(input(\"Enter a number\"))\n",
    "s=0\n",
    "for i in range(0,n):\n",
    "    s=s+i\n",
    "print(\"sum\", s)"
   ]
  },
  {
   "cell_type": "code",
   "execution_count": 42,
   "id": "e93d987a-fa4c-47bc-ac66-24d6282c15ba",
   "metadata": {},
   "outputs": [
    {
     "name": "stdin",
     "output_type": "stream",
     "text": [
      "Enter a number 123\n"
     ]
    },
    {
     "name": "stdout",
     "output_type": "stream",
     "text": [
      "12\n"
     ]
    }
   ],
   "source": [
    "n=input(\"Enter a number\")\n",
    "x=n[:-1]\n",
    "print(x)"
   ]
  },
  {
   "cell_type": "code",
   "execution_count": 55,
   "id": "8113c2e5-663d-4974-b63c-93ec2b0a75f9",
   "metadata": {},
   "outputs": [
    {
     "name": "stdin",
     "output_type": "stream",
     "text": [
      "Enter a number 1234\n"
     ]
    },
    {
     "name": "stdout",
     "output_type": "stream",
     "text": [
      "4321\n"
     ]
    }
   ],
   "source": [
    "n=int(input(\"Enter a number\"))\n",
    "rev=0\n",
    "while(n>0):\n",
    "    r=n%10\n",
    "    rev=rev*10+r\n",
    "    n=n//10\n",
    "print(rev)\n"
   ]
  },
  {
   "cell_type": "code",
   "execution_count": 52,
   "id": "682a8bf7-d371-46ab-bdb0-871bce6f9375",
   "metadata": {},
   "outputs": [
    {
     "name": "stdin",
     "output_type": "stream",
     "text": [
      "Enter a number 258\n"
     ]
    },
    {
     "name": "stdout",
     "output_type": "stream",
     "text": [
      "8\n"
     ]
    }
   ],
   "source": [
    "n=int(input(\"Enter a number\"))\n",
    "while(n>0):\n",
    "    n=n%10\n",
    "    \n",
    "    \n",
    "    print(n)\n",
    "    n=n//10\n"
   ]
  },
  {
   "cell_type": "code",
   "execution_count": 107,
   "id": "1be8334c-b7db-46b2-96b7-da9b03f1c242",
   "metadata": {},
   "outputs": [
    {
     "name": "stdin",
     "output_type": "stream",
     "text": [
      "Enter a number 10\n"
     ]
    }
   ],
   "source": [
    "\n",
    "n=int(input(\"Enter a number\"))\n",
    "sum=0\n",
    "for i in range(0,n):\n",
    "    l=i+1\n",
    "    \n",
    "    "
   ]
  },
  {
   "cell_type": "code",
   "execution_count": 67,
   "id": "a6759100-7f30-4320-8b94-919cc93d3ff0",
   "metadata": {},
   "outputs": [
    {
     "name": "stdout",
     "output_type": "stream",
     "text": [
      "720\n"
     ]
    }
   ],
   "source": [
    "#factorial using for loop\n",
    "n=6\n",
    "mul=1\n",
    "for i in range(1,n+1):\n",
    "    mul=mul*int(i)\n",
    "print(mul)\n",
    "    \n",
    "    \n",
    "    "
   ]
  },
  {
   "cell_type": "code",
   "execution_count": 81,
   "id": "6de70ee7-c81a-4a3f-bfc0-3848b1b53d3c",
   "metadata": {},
   "outputs": [
    {
     "name": "stdout",
     "output_type": "stream",
     "text": [
      "names ['abdul', 'basha', 'catherine']\n"
     ]
    }
   ],
   "source": [
    "#lists\n",
    "l=[\"abdul\", \"basha\", \"catherine\",123,234,235]\n",
    "names=l[0:3]\n",
    "print(\"names\",names)"
   ]
  },
  {
   "cell_type": "code",
   "execution_count": 75,
   "id": "0e43b157-2cc9-4386-88df-6117cdc652c1",
   "metadata": {},
   "outputs": [
    {
     "name": "stdin",
     "output_type": "stream",
     "text": [
      "Enter a number: 10\n"
     ]
    },
    {
     "name": "stdout",
     "output_type": "stream",
     "text": [
      "1\n",
      "2\n",
      "5\n",
      "10\n"
     ]
    }
   ],
   "source": [
    "#factors of a number\n",
    "n=int(input(\"Enter a number:\"))\n",
    "for i in range(1,n+1):\n",
    "    if n%i==0:\n",
    "        print(i)\n",
    "        \n",
    "\n",
    "\n"
   ]
  },
  {
   "cell_type": "code",
   "execution_count": 82,
   "id": "e9a0489c-a249-4d89-861b-78eed30728c3",
   "metadata": {},
   "outputs": [
    {
     "name": "stdin",
     "output_type": "stream",
     "text": [
      "Enter a number 10\n"
     ]
    },
    {
     "name": "stdout",
     "output_type": "stream",
     "text": [
      "[1, 2, 5, 10]\n"
     ]
    }
   ],
   "source": [
    "#list of factors\n",
    "n=int(input(\"Enter a number\"))\n",
    "factor_list=[]\n",
    "for i in range(1,n+1):\n",
    "    if n%i == 0:\n",
    "        factor_list.append(i)\n",
    "print(factor_list)"
   ]
  },
  {
   "cell_type": "code",
   "execution_count": 87,
   "id": "b4ba3a03-d8f2-4df4-b7e5-2b8873c05b1d",
   "metadata": {},
   "outputs": [
    {
     "name": "stdin",
     "output_type": "stream",
     "text": [
      "Enter a number 20\n"
     ]
    },
    {
     "name": "stdout",
     "output_type": "stream",
     "text": [
      "[1, 2, 4, 5, 10, 20]\n"
     ]
    }
   ],
   "source": [
    "#function of list factors\n",
    "def factor_list(n):\n",
    "    factor_list=[]\n",
    "    for i in range(1,n+1):\n",
    "        if n%i == 0:\n",
    "            factor_list.append(i)\n",
    "    return factor_list\n",
    "n=int(input(\"Enter a number\"))\n",
    "print(factor_list(n))\n",
    "    "
   ]
  },
  {
   "cell_type": "code",
   "execution_count": 98,
   "id": "88864b53-e458-44db-9753-6d2ba53a9255",
   "metadata": {},
   "outputs": [
    {
     "name": "stdin",
     "output_type": "stream",
     "text": [
      "Enter a number: 7\n"
     ]
    },
    {
     "name": "stdout",
     "output_type": "stream",
     "text": [
      "True\n"
     ]
    }
   ],
   "source": [
    "#prime or not using function\n",
    "def prime(n):\n",
    "    return(factor_list(n)==[1,n])\n",
    "n=int(input(\"Enter a number:\"))\n",
    "print(prime(n))"
   ]
  },
  {
   "cell_type": "code",
   "execution_count": 115,
   "id": "898cb9ca-b16c-4d23-a419-392946bb7e4f",
   "metadata": {},
   "outputs": [
    {
     "name": "stdout",
     "output_type": "stream",
     "text": [
      "[2, 3, 5, 7, 11, 13, 17, 19, 23, 29, 31, 37, 41, 43, 47, 53, 59, 61, 67, 71, 73, 79, 83, 89, 97]\n"
     ]
    }
   ],
   "source": [
    "#prime numbers upto 100\n",
    "primelist=[]\n",
    "for n in range(1,101):\n",
    "    if (prime(n)):\n",
    "        primelist.append(n)\n",
    "\n",
    "print(primelist)"
   ]
  },
  {
   "cell_type": "code",
   "execution_count": null,
   "id": "c781887f-ead9-4275-b827-5cf2d057d529",
   "metadata": {},
   "outputs": [],
   "source": [
    "#prime numbers upto 100\n",
    "n=int(input(\"Enter a number\"))\n",
    "for i in range(1,n):\n",
    "    if n%i=0:\n",
    "        print(i)\n",
    "        \n",
    "\n",
    "    "
   ]
  },
  {
   "cell_type": "code",
   "execution_count": 93,
   "id": "54b46b90-8df9-4962-b631-b3459601478e",
   "metadata": {},
   "outputs": [
    {
     "name": "stdin",
     "output_type": "stream",
     "text": [
      "Enter your number 7\n"
     ]
    },
    {
     "name": "stdout",
     "output_type": "stream",
     "text": [
      "prime\n"
     ]
    }
   ],
   "source": [
    "#prime or not\n",
    "n=int(input(\"Enter your number\"))\n",
    "for i in range(2,n):\n",
    "    if n%i==0:\n",
    "        print(\"not a prime\")\n",
    "        break\n",
    "else:\n",
    "    print(\"prime\")"
   ]
  },
  {
   "cell_type": "code",
   "execution_count": 95,
   "id": "f1e50497-6ebe-457b-b1b7-fc0b7beca870",
   "metadata": {},
   "outputs": [
    {
     "name": "stdin",
     "output_type": "stream",
     "text": [
      "Enter your number 7\n"
     ]
    },
    {
     "name": "stdout",
     "output_type": "stream",
     "text": [
      "prime\n",
      "None\n"
     ]
    }
   ],
   "source": [
    "#function for prime\n",
    "def prime_or_not(n):\n",
    "    for i in range(2,n):\n",
    "        if n%i==0:\n",
    "            print(\"not a prime\")\n",
    "            break\n",
    "    else:\n",
    "         print(\"prime\")\n",
    "  \n",
    "n=int(input(\"Enter your number\"))\n",
    "print(prime_or_not(n))\n",
    "    "
   ]
  },
  {
   "cell_type": "code",
   "execution_count": 104,
   "id": "599e81a2-f377-47b8-a3dd-b15256b3209a",
   "metadata": {},
   "outputs": [
    {
     "name": "stdin",
     "output_type": "stream",
     "text": [
      "Enter a number 1234\n"
     ]
    },
    {
     "name": "stdout",
     "output_type": "stream",
     "text": [
      "4321\n"
     ]
    }
   ],
   "source": [
    "#reversing\n",
    "n=int(input(\"Enter a number\"))\n",
    "rev=0\n",
    "while n>0:\n",
    "    digit=n%10\n",
    "    rev=rev*10 +digit\n",
    "    n=n//10\n",
    "print(rev)"
   ]
  },
  {
   "cell_type": "code",
   "execution_count": 106,
   "id": "1ebf0785-5984-4676-b5f4-bdb8b5f1b1ef",
   "metadata": {},
   "outputs": [
    {
     "name": "stdin",
     "output_type": "stream",
     "text": [
      "Enter a number 123\n"
     ]
    },
    {
     "name": "stdout",
     "output_type": "stream",
     "text": [
      "321\n"
     ]
    }
   ],
   "source": [
    "#reverse using function\n",
    "def reverse(n):\n",
    "    rev=0\n",
    "    while n>0:\n",
    "        digit=n%10\n",
    "        rev=rev*10 +digit\n",
    "        n=n//10\n",
    "    return rev\n",
    "n=int(input(\"Enter a number\"))\n",
    "print(reverse(n))\n",
    "    "
   ]
  },
  {
   "cell_type": "code",
   "execution_count": null,
   "id": "fab5ca8e-190f-47cb-9fbd-01bad80ac068",
   "metadata": {},
   "outputs": [],
   "source": []
  },
  {
   "cell_type": "raw",
   "id": "70a4a950-abc3-4549-a65a-dcccbc81dd5a",
   "metadata": {},
   "source": [
    "\n",
    "\n"
   ]
  }
 ],
 "metadata": {
  "kernelspec": {
   "display_name": "Python 3 (ipykernel)",
   "language": "python",
   "name": "python3"
  },
  "language_info": {
   "codemirror_mode": {
    "name": "ipython",
    "version": 3
   },
   "file_extension": ".py",
   "mimetype": "text/x-python",
   "name": "python",
   "nbconvert_exporter": "python",
   "pygments_lexer": "ipython3",
   "version": "3.12.7"
  }
 },
 "nbformat": 4,
 "nbformat_minor": 5
}
