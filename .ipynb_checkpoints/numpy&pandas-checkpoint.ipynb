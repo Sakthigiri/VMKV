{
 "cells": [
  {
   "cell_type": "code",
   "execution_count": 1,
   "id": "a7cac743-d1fb-4605-b2e0-a6c0b2d9f6c1",
   "metadata": {},
   "outputs": [
    {
     "name": "stdout",
     "output_type": "stream",
     "text": [
      "Requirement already satisfied: numpy in c:\\users\\student\\anaconda3\\lib\\site-packages (1.26.4)Note: you may need to restart the kernel to use updated packages.\n",
      "\n"
     ]
    }
   ],
   "source": [
    "pip install numpy\n"
   ]
  },
  {
   "cell_type": "code",
   "execution_count": 1,
   "id": "c834d777-3f9e-409b-bc8e-69f124fe8f69",
   "metadata": {},
   "outputs": [
    {
     "name": "stdout",
     "output_type": "stream",
     "text": [
      "Requirement already satisfied: numpy in c:\\users\\student\\anaconda3\\lib\\site-packages (1.26.4)\n",
      "Note: you may need to restart the kernel to use updated packages.\n"
     ]
    }
   ],
   "source": [
    "pip install numpy\n"
   ]
  },
  {
   "cell_type": "code",
   "execution_count": 2,
   "id": "dae530f2-ca84-4db2-a703-784b1f27817c",
   "metadata": {},
   "outputs": [],
   "source": [
    "#Statement to import the numpy library\n",
    "import numpy as np"
   ]
  },
  {
   "cell_type": "code",
   "execution_count": 19,
   "id": "f1d8aaa4-eb46-4ebd-80f0-ec4222a76f69",
   "metadata": {},
   "outputs": [
    {
     "name": "stdout",
     "output_type": "stream",
     "text": [
      "list: [1, 2, 3, 4]\n",
      "<class 'list'>\n",
      "numpy array:  [1 2 3 4]\n",
      "<class 'numpy.ndarray'>\n"
     ]
    }
   ],
   "source": [
    "l=[1,2,3,4]\n",
    "print(\"list:\",l)\n",
    "print(type(l))\n",
    "one_d_array=np.array(l)\n",
    "print(\"numpy array: \", one_d_array)\n",
    "print(type(one_d_array))"
   ]
  },
  {
   "cell_type": "code",
   "execution_count": 20,
   "id": "378d5741-13ab-4796-a74c-3f3582406077",
   "metadata": {},
   "outputs": [
    {
     "name": "stdout",
     "output_type": "stream",
     "text": [
      "<class 'list'>\n",
      "[[1 2]\n",
      " [3 4]]\n",
      "<class 'numpy.ndarray'>\n"
     ]
    }
   ],
   "source": [
    "li = [[1,2],[3,4]]\n",
    "print(type(li))\n",
    "two_d_array=np.array(li)\n",
    "print(two_d_array)\n",
    "print(type(two_d_array))"
   ]
  },
  {
   "cell_type": "code",
   "execution_count": 21,
   "id": "4645a58a-9fda-489d-b1d0-216c97205299",
   "metadata": {},
   "outputs": [
    {
     "name": "stdout",
     "output_type": "stream",
     "text": [
      "<class 'list'>\n",
      "[[[1 2]\n",
      "  [3 4]]\n",
      "\n",
      " [[5 6]\n",
      "  [7 8]]]\n",
      "<class 'numpy.ndarray'>\n"
     ]
    }
   ],
   "source": [
    "c=[[[1,2],[3,4]],[[5,6],[7,8]]]\n",
    "print(type(c))\n",
    "three_d_array=np.array(c)\n",
    "print(three_d_array)\n",
    "print(type(three_d_array))"
   ]
  },
  {
   "cell_type": "code",
   "execution_count": 27,
   "id": "19d4bef6-3799-4099-bb12-c0ee537e3261",
   "metadata": {},
   "outputs": [
    {
     "name": "stdout",
     "output_type": "stream",
     "text": [
      "one d array dimension:  1\n",
      "one d array shape:  (4,)\n",
      "one d array size:  4\n",
      "\n",
      "\n",
      "two d array dimension:  2\n",
      "two d array shape:  (2, 2)\n",
      "two d array size:  4\n",
      "\n",
      "\n",
      "three d array dimension:  3\n",
      "three d array shape:  (2, 2, 2)\n",
      "three d array size:  8\n"
     ]
    }
   ],
   "source": [
    "print(\"one d array dimension: \", one_d_array.ndim)\n",
    "print(\"one d array shape: \", one_d_array.shape)\n",
    "print(\"one d array size: \", one_d_array.size)\n",
    "print(\"\\n\")\n",
    "print(\"two d array dimension: \", two_d_array.ndim)\n",
    "print(\"two d array shape: \", two_d_array.shape)\n",
    "print(\"two d array size: \", two_d_array.size)\n",
    "print(\"\\n\")\n",
    "print(\"three d array dimension: \", three_d_array.ndim)\n",
    "print(\"three d array shape: \", three_d_array.shape)\n",
    "print(\"three d array size: \", three_d_array.size)"
   ]
  },
  {
   "cell_type": "code",
   "execution_count": 28,
   "id": "9bd37a3a-526b-4338-80b7-b2ea4ca6b25c",
   "metadata": {},
   "outputs": [
    {
     "name": "stdout",
     "output_type": "stream",
     "text": [
      "Memory cons by an element 28\n",
      "Total memory usage 280\n"
     ]
    }
   ],
   "source": [
    "import sys\n",
    "sample_list=[0,1,2,3,4,5,6,7,8,9,]\n",
    "print(\"Memory cons by an element\", sys.getsizeof(sample_list[0]))\n",
    "print(\"Total memory usage\",(sys.getsizeof(sample_list[0]))*len(sample_list))"
   ]
  },
  {
   "cell_type": "code",
   "execution_count": 29,
   "id": "a05f62dd-8f19-4742-8512-51dbc11a1a9f",
   "metadata": {},
   "outputs": [
    {
     "name": "stdout",
     "output_type": "stream",
     "text": [
      "Memory cons by an element 4\n",
      "Total memory usage 40\n"
     ]
    }
   ],
   "source": [
    "numpy_array=np.array([0,1,2,3,4,5,6,7,8,9])\n",
    "print(\"Memory cons by an element\", numpy_array.itemsize)\n",
    "print(\"Total memory usage\",numpy_array.itemsize*numpy_array.size)"
   ]
  },
  {
   "cell_type": "code",
   "execution_count": 30,
   "id": "9087ca74-bac7-4842-a56a-cc4977ab880e",
   "metadata": {},
   "outputs": [
    {
     "name": "stdout",
     "output_type": "stream",
     "text": [
      "Memory cons by an element 4\n",
      "Total memory usage 40\n"
     ]
    }
   ],
   "source": [
    "numpy_array=np.array([0,1,2,3,4,5,6,7,8,9])\n",
    "print(\"Memory cons by an element\", numpy_array.itemsize)\n",
    "print(\"Total memory usage\",numpy_array.itemsize*len(numpy_array))"
   ]
  },
  {
   "cell_type": "code",
   "execution_count": 31,
   "id": "647d8c3e-4f5d-4699-8641-6a374f7bacc9",
   "metadata": {},
   "outputs": [
    {
     "name": "stdout",
     "output_type": "stream",
     "text": [
      "Requirement already satisfied: pandas in c:\\users\\student\\anaconda3\\lib\\site-packages (2.2.2)\n",
      "Requirement already satisfied: numpy>=1.26.0 in c:\\users\\student\\anaconda3\\lib\\site-packages (from pandas) (1.26.4)\n",
      "Requirement already satisfied: python-dateutil>=2.8.2 in c:\\users\\student\\anaconda3\\lib\\site-packages (from pandas) (2.9.0.post0)\n",
      "Requirement already satisfied: pytz>=2020.1 in c:\\users\\student\\anaconda3\\lib\\site-packages (from pandas) (2024.1)\n",
      "Requirement already satisfied: tzdata>=2022.7 in c:\\users\\student\\anaconda3\\lib\\site-packages (from pandas) (2023.3)\n",
      "Requirement already satisfied: six>=1.5 in c:\\users\\student\\anaconda3\\lib\\site-packages (from python-dateutil>=2.8.2->pandas) (1.16.0)\n",
      "Note: you may need to restart the kernel to use updated packages.\n"
     ]
    }
   ],
   "source": [
    "pip install pandas"
   ]
  },
  {
   "cell_type": "code",
   "execution_count": 1,
   "id": "6eacef97-80d3-4e0f-b4cd-65e2b9ced425",
   "metadata": {},
   "outputs": [],
   "source": [
    "import pandas as pd\n"
   ]
  },
  {
   "cell_type": "code",
   "execution_count": 4,
   "id": "a3e06fd4-179a-4d01-b2de-d400a6198915",
   "metadata": {},
   "outputs": [
    {
     "name": "stdout",
     "output_type": "stream",
     "text": [
      "a    11\n",
      "b    22\n",
      "c    33\n",
      "d    44\n",
      "e    55\n",
      "Name: Number, dtype: int64\n"
     ]
    }
   ],
   "source": [
    "number_list=[11,22,33,44,55]\n",
    "number_series=pd.Series(number_list, index=['a','b','c','d','e'],name='Number')\n",
    "print(number_series)"
   ]
  },
  {
   "cell_type": "code",
   "execution_count": 5,
   "id": "0f9dc562-c777-40db-86fa-9f0ddd02805a",
   "metadata": {},
   "outputs": [
    {
     "name": "stdout",
     "output_type": "stream",
     "text": [
      "      name  Age\n",
      "0      Tom   20\n",
      "1    harry   21\n",
      "2    ortho   19\n",
      "3  palermo   18\n"
     ]
    }
   ],
   "source": [
    "std_dict={'name':['Tom','harry','ortho','palermo'],'Age':[20,21,19,18]}\n",
    "df=pd.DataFrame(std_dict)\n",
    "print(df)"
   ]
  },
  {
   "cell_type": "code",
   "execution_count": 10,
   "id": "31403220-be99-4b55-92e4-2c6e2cc71fc9",
   "metadata": {},
   "outputs": [
    {
     "data": {
      "text/html": [
       "<div>\n",
       "<style scoped>\n",
       "    .dataframe tbody tr th:only-of-type {\n",
       "        vertical-align: middle;\n",
       "    }\n",
       "\n",
       "    .dataframe tbody tr th {\n",
       "        vertical-align: top;\n",
       "    }\n",
       "\n",
       "    .dataframe thead th {\n",
       "        text-align: right;\n",
       "    }\n",
       "</style>\n",
       "<table border=\"1\" class=\"dataframe\">\n",
       "  <thead>\n",
       "    <tr style=\"text-align: right;\">\n",
       "      <th></th>\n",
       "      <th>total_bill</th>\n",
       "      <th>tip</th>\n",
       "      <th>sex</th>\n",
       "      <th>smoker</th>\n",
       "      <th>day</th>\n",
       "      <th>time</th>\n",
       "      <th>size</th>\n",
       "    </tr>\n",
       "  </thead>\n",
       "  <tbody>\n",
       "    <tr>\n",
       "      <th>0</th>\n",
       "      <td>16.99</td>\n",
       "      <td>1.01</td>\n",
       "      <td>Female</td>\n",
       "      <td>No</td>\n",
       "      <td>Sun</td>\n",
       "      <td>Dinner</td>\n",
       "      <td>2</td>\n",
       "    </tr>\n",
       "    <tr>\n",
       "      <th>1</th>\n",
       "      <td>10.34</td>\n",
       "      <td>1.66</td>\n",
       "      <td>Male</td>\n",
       "      <td>No</td>\n",
       "      <td>Sun</td>\n",
       "      <td>Dinner</td>\n",
       "      <td>3</td>\n",
       "    </tr>\n",
       "    <tr>\n",
       "      <th>2</th>\n",
       "      <td>21.01</td>\n",
       "      <td>3.50</td>\n",
       "      <td>Male</td>\n",
       "      <td>No</td>\n",
       "      <td>Sun</td>\n",
       "      <td>Dinner</td>\n",
       "      <td>3</td>\n",
       "    </tr>\n",
       "    <tr>\n",
       "      <th>3</th>\n",
       "      <td>23.68</td>\n",
       "      <td>3.31</td>\n",
       "      <td>Male</td>\n",
       "      <td>No</td>\n",
       "      <td>Sun</td>\n",
       "      <td>Dinner</td>\n",
       "      <td>2</td>\n",
       "    </tr>\n",
       "    <tr>\n",
       "      <th>4</th>\n",
       "      <td>24.59</td>\n",
       "      <td>3.61</td>\n",
       "      <td>Female</td>\n",
       "      <td>No</td>\n",
       "      <td>Sun</td>\n",
       "      <td>Dinner</td>\n",
       "      <td>4</td>\n",
       "    </tr>\n",
       "  </tbody>\n",
       "</table>\n",
       "</div>"
      ],
      "text/plain": [
       "   total_bill   tip     sex smoker  day    time  size\n",
       "0       16.99  1.01  Female     No  Sun  Dinner     2\n",
       "1       10.34  1.66    Male     No  Sun  Dinner     3\n",
       "2       21.01  3.50    Male     No  Sun  Dinner     3\n",
       "3       23.68  3.31    Male     No  Sun  Dinner     2\n",
       "4       24.59  3.61  Female     No  Sun  Dinner     4"
      ]
     },
     "execution_count": 10,
     "metadata": {},
     "output_type": "execute_result"
    }
   ],
   "source": [
    "dataset=pd.read_csv(\"d:/Users/Student/Downloads/dataset/dataset/tips.csv\")\n",
    "dataset.head()"
   ]
  },
  {
   "cell_type": "code",
   "execution_count": null,
   "id": "b81e5230-1b50-4ba0-8b05-2e09497dc1fd",
   "metadata": {},
   "outputs": [],
   "source": []
  }
 ],
 "metadata": {
  "kernelspec": {
   "display_name": "Python 3 (ipykernel)",
   "language": "python",
   "name": "python3"
  },
  "language_info": {
   "codemirror_mode": {
    "name": "ipython",
    "version": 3
   },
   "file_extension": ".py",
   "mimetype": "text/x-python",
   "name": "python",
   "nbconvert_exporter": "python",
   "pygments_lexer": "ipython3",
   "version": "3.12.7"
  }
 },
 "nbformat": 4,
 "nbformat_minor": 5
}
