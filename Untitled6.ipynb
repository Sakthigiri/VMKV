{
 "cells": [
  {
   "cell_type": "code",
   "execution_count": null,
   "id": "21e2bb11-42a9-47ea-83f1-ed7640777b98",
   "metadata": {},
   "outputs": [],
   "source": [
    "import keras\n",
    "from keras"
   ]
  }
 ],
 "metadata": {
  "kernelspec": {
   "display_name": "Python 3 (ipykernel)",
   "language": "python",
   "name": "python3"
  },
  "language_info": {
   "codemirror_mode": {
    "name": "ipython",
    "version": 3
   },
   "file_extension": ".py",
   "mimetype": "text/x-python",
   "name": "python",
   "nbconvert_exporter": "python",
   "pygments_lexer": "ipython3",
   "version": "3.12.7"
  }
 },
 "nbformat": 4,
 "nbformat_minor": 5
}
